{
 "cells": [
  {
   "cell_type": "code",
   "execution_count": 1,
   "metadata": {},
   "outputs": [],
   "source": [
    "import numpy as np\n",
    "import pandas as pd\n",
    "import matplotlib.pyplot as plt\n",
    "from sklearn.preprocessing import MinMaxScaler"
   ]
  },
  {
   "cell_type": "markdown",
   "metadata": {},
   "source": [
    "# Problem 1"
   ]
  },
  {
   "cell_type": "markdown",
   "metadata": {},
   "source": [
    "\n",
    "### 1A"
   ]
  },
  {
   "cell_type": "code",
   "execution_count": 2,
   "metadata": {},
   "outputs": [],
   "source": [
    "data = pd.read_csv(\"segmentation_data.txt\", header = None)"
   ]
  },
  {
   "cell_type": "code",
   "execution_count": 3,
   "metadata": {},
   "outputs": [
    {
     "data": {
      "text/html": [
       "<div>\n",
       "<style scoped>\n",
       "    .dataframe tbody tr th:only-of-type {\n",
       "        vertical-align: middle;\n",
       "    }\n",
       "\n",
       "    .dataframe tbody tr th {\n",
       "        vertical-align: top;\n",
       "    }\n",
       "\n",
       "    .dataframe thead th {\n",
       "        text-align: right;\n",
       "    }\n",
       "</style>\n",
       "<table border=\"1\" class=\"dataframe\">\n",
       "  <thead>\n",
       "    <tr style=\"text-align: right;\">\n",
       "      <th></th>\n",
       "      <th>0</th>\n",
       "      <th>1</th>\n",
       "      <th>2</th>\n",
       "      <th>3</th>\n",
       "      <th>4</th>\n",
       "      <th>5</th>\n",
       "      <th>6</th>\n",
       "      <th>7</th>\n",
       "      <th>8</th>\n",
       "      <th>9</th>\n",
       "      <th>10</th>\n",
       "      <th>11</th>\n",
       "      <th>12</th>\n",
       "      <th>13</th>\n",
       "      <th>14</th>\n",
       "      <th>15</th>\n",
       "      <th>16</th>\n",
       "      <th>17</th>\n",
       "      <th>18</th>\n",
       "    </tr>\n",
       "  </thead>\n",
       "  <tbody>\n",
       "    <tr>\n",
       "      <td>0</td>\n",
       "      <td>110.0</td>\n",
       "      <td>189.0</td>\n",
       "      <td>9</td>\n",
       "      <td>0.0</td>\n",
       "      <td>0.0</td>\n",
       "      <td>1.000000</td>\n",
       "      <td>0.666667</td>\n",
       "      <td>1.222222</td>\n",
       "      <td>1.186342</td>\n",
       "      <td>12.925926</td>\n",
       "      <td>10.888889</td>\n",
       "      <td>9.222222</td>\n",
       "      <td>18.666668</td>\n",
       "      <td>-6.111111</td>\n",
       "      <td>-11.111111</td>\n",
       "      <td>17.222221</td>\n",
       "      <td>18.666668</td>\n",
       "      <td>0.508139</td>\n",
       "      <td>1.910864</td>\n",
       "    </tr>\n",
       "    <tr>\n",
       "      <td>1</td>\n",
       "      <td>86.0</td>\n",
       "      <td>187.0</td>\n",
       "      <td>9</td>\n",
       "      <td>0.0</td>\n",
       "      <td>0.0</td>\n",
       "      <td>1.111111</td>\n",
       "      <td>0.720082</td>\n",
       "      <td>1.444444</td>\n",
       "      <td>0.750309</td>\n",
       "      <td>13.740741</td>\n",
       "      <td>11.666667</td>\n",
       "      <td>10.333334</td>\n",
       "      <td>19.222221</td>\n",
       "      <td>-6.222222</td>\n",
       "      <td>-10.222222</td>\n",
       "      <td>16.444445</td>\n",
       "      <td>19.222221</td>\n",
       "      <td>0.463329</td>\n",
       "      <td>1.941465</td>\n",
       "    </tr>\n",
       "    <tr>\n",
       "      <td>2</td>\n",
       "      <td>225.0</td>\n",
       "      <td>244.0</td>\n",
       "      <td>9</td>\n",
       "      <td>0.0</td>\n",
       "      <td>0.0</td>\n",
       "      <td>3.388889</td>\n",
       "      <td>2.195113</td>\n",
       "      <td>3.000000</td>\n",
       "      <td>1.520234</td>\n",
       "      <td>12.259259</td>\n",
       "      <td>10.333334</td>\n",
       "      <td>9.333334</td>\n",
       "      <td>17.111110</td>\n",
       "      <td>-5.777778</td>\n",
       "      <td>-8.777778</td>\n",
       "      <td>14.555555</td>\n",
       "      <td>17.111110</td>\n",
       "      <td>0.480149</td>\n",
       "      <td>1.987902</td>\n",
       "    </tr>\n",
       "    <tr>\n",
       "      <td>3</td>\n",
       "      <td>47.0</td>\n",
       "      <td>232.0</td>\n",
       "      <td>9</td>\n",
       "      <td>0.0</td>\n",
       "      <td>0.0</td>\n",
       "      <td>1.277778</td>\n",
       "      <td>1.254621</td>\n",
       "      <td>1.000000</td>\n",
       "      <td>0.894427</td>\n",
       "      <td>12.703704</td>\n",
       "      <td>11.000000</td>\n",
       "      <td>9.000000</td>\n",
       "      <td>18.111110</td>\n",
       "      <td>-5.111111</td>\n",
       "      <td>-11.111111</td>\n",
       "      <td>16.222221</td>\n",
       "      <td>18.111110</td>\n",
       "      <td>0.500966</td>\n",
       "      <td>1.875362</td>\n",
       "    </tr>\n",
       "    <tr>\n",
       "      <td>4</td>\n",
       "      <td>97.0</td>\n",
       "      <td>186.0</td>\n",
       "      <td>9</td>\n",
       "      <td>0.0</td>\n",
       "      <td>0.0</td>\n",
       "      <td>1.166667</td>\n",
       "      <td>0.691215</td>\n",
       "      <td>1.166667</td>\n",
       "      <td>1.005540</td>\n",
       "      <td>15.592592</td>\n",
       "      <td>13.888889</td>\n",
       "      <td>11.777778</td>\n",
       "      <td>21.111110</td>\n",
       "      <td>-5.111111</td>\n",
       "      <td>-11.444445</td>\n",
       "      <td>16.555555</td>\n",
       "      <td>21.111110</td>\n",
       "      <td>0.442661</td>\n",
       "      <td>1.863654</td>\n",
       "    </tr>\n",
       "  </tbody>\n",
       "</table>\n",
       "</div>"
      ],
      "text/plain": [
       "      0      1   2    3    4         5         6         7         8   \\\n",
       "0  110.0  189.0   9  0.0  0.0  1.000000  0.666667  1.222222  1.186342   \n",
       "1   86.0  187.0   9  0.0  0.0  1.111111  0.720082  1.444444  0.750309   \n",
       "2  225.0  244.0   9  0.0  0.0  3.388889  2.195113  3.000000  1.520234   \n",
       "3   47.0  232.0   9  0.0  0.0  1.277778  1.254621  1.000000  0.894427   \n",
       "4   97.0  186.0   9  0.0  0.0  1.166667  0.691215  1.166667  1.005540   \n",
       "\n",
       "          9          10         11         12        13         14         15  \\\n",
       "0  12.925926  10.888889   9.222222  18.666668 -6.111111 -11.111111  17.222221   \n",
       "1  13.740741  11.666667  10.333334  19.222221 -6.222222 -10.222222  16.444445   \n",
       "2  12.259259  10.333334   9.333334  17.111110 -5.777778  -8.777778  14.555555   \n",
       "3  12.703704  11.000000   9.000000  18.111110 -5.111111 -11.111111  16.222221   \n",
       "4  15.592592  13.888889  11.777778  21.111110 -5.111111 -11.444445  16.555555   \n",
       "\n",
       "          16        17        18  \n",
       "0  18.666668  0.508139  1.910864  \n",
       "1  19.222221  0.463329  1.941465  \n",
       "2  17.111110  0.480149  1.987902  \n",
       "3  18.111110  0.500966  1.875362  \n",
       "4  21.111110  0.442661  1.863654  "
      ]
     },
     "execution_count": 3,
     "metadata": {},
     "output_type": "execute_result"
    }
   ],
   "source": [
    "data.head()"
   ]
  },
  {
   "cell_type": "code",
   "execution_count": 4,
   "metadata": {},
   "outputs": [],
   "source": [
    "Sclass = pd.read_csv(\"segmentation_classes.txt\", header = None, sep = '\\t')"
   ]
  },
  {
   "cell_type": "code",
   "execution_count": 5,
   "metadata": {},
   "outputs": [
    {
     "data": {
      "text/html": [
       "<div>\n",
       "<style scoped>\n",
       "    .dataframe tbody tr th:only-of-type {\n",
       "        vertical-align: middle;\n",
       "    }\n",
       "\n",
       "    .dataframe tbody tr th {\n",
       "        vertical-align: top;\n",
       "    }\n",
       "\n",
       "    .dataframe thead th {\n",
       "        text-align: right;\n",
       "    }\n",
       "</style>\n",
       "<table border=\"1\" class=\"dataframe\">\n",
       "  <thead>\n",
       "    <tr style=\"text-align: right;\">\n",
       "      <th></th>\n",
       "      <th>0</th>\n",
       "      <th>1</th>\n",
       "    </tr>\n",
       "  </thead>\n",
       "  <tbody>\n",
       "    <tr>\n",
       "      <td>0</td>\n",
       "      <td>GRASS</td>\n",
       "      <td>0</td>\n",
       "    </tr>\n",
       "    <tr>\n",
       "      <td>1</td>\n",
       "      <td>GRASS</td>\n",
       "      <td>0</td>\n",
       "    </tr>\n",
       "    <tr>\n",
       "      <td>2</td>\n",
       "      <td>GRASS</td>\n",
       "      <td>0</td>\n",
       "    </tr>\n",
       "    <tr>\n",
       "      <td>3</td>\n",
       "      <td>GRASS</td>\n",
       "      <td>0</td>\n",
       "    </tr>\n",
       "    <tr>\n",
       "      <td>4</td>\n",
       "      <td>GRASS</td>\n",
       "      <td>0</td>\n",
       "    </tr>\n",
       "  </tbody>\n",
       "</table>\n",
       "</div>"
      ],
      "text/plain": [
       "       0  1\n",
       "0  GRASS  0\n",
       "1  GRASS  0\n",
       "2  GRASS  0\n",
       "3  GRASS  0\n",
       "4  GRASS  0"
      ]
     },
     "execution_count": 5,
     "metadata": {},
     "output_type": "execute_result"
    }
   ],
   "source": [
    "Sclass.head()"
   ]
  },
  {
   "cell_type": "code",
   "execution_count": 6,
   "metadata": {},
   "outputs": [],
   "source": [
    "names = pd.read_csv(\"segmentation_names.txt\", header = None)"
   ]
  },
  {
   "cell_type": "code",
   "execution_count": 7,
   "metadata": {},
   "outputs": [
    {
     "data": {
      "text/html": [
       "<div>\n",
       "<style scoped>\n",
       "    .dataframe tbody tr th:only-of-type {\n",
       "        vertical-align: middle;\n",
       "    }\n",
       "\n",
       "    .dataframe tbody tr th {\n",
       "        vertical-align: top;\n",
       "    }\n",
       "\n",
       "    .dataframe thead th {\n",
       "        text-align: right;\n",
       "    }\n",
       "</style>\n",
       "<table border=\"1\" class=\"dataframe\">\n",
       "  <thead>\n",
       "    <tr style=\"text-align: right;\">\n",
       "      <th></th>\n",
       "      <th>0</th>\n",
       "    </tr>\n",
       "  </thead>\n",
       "  <tbody>\n",
       "    <tr>\n",
       "      <td>0</td>\n",
       "      <td>REGION-CENTROID-COL</td>\n",
       "    </tr>\n",
       "    <tr>\n",
       "      <td>1</td>\n",
       "      <td>REGION-CENTROID-ROW</td>\n",
       "    </tr>\n",
       "    <tr>\n",
       "      <td>2</td>\n",
       "      <td>REGION-PIXEL-COUNT</td>\n",
       "    </tr>\n",
       "    <tr>\n",
       "      <td>3</td>\n",
       "      <td>SHORT-LINE-DENSITY-5</td>\n",
       "    </tr>\n",
       "    <tr>\n",
       "      <td>4</td>\n",
       "      <td>SHORT-LINE-DENSITY-2</td>\n",
       "    </tr>\n",
       "  </tbody>\n",
       "</table>\n",
       "</div>"
      ],
      "text/plain": [
       "                      0\n",
       "0   REGION-CENTROID-COL\n",
       "1   REGION-CENTROID-ROW\n",
       "2    REGION-PIXEL-COUNT\n",
       "3  SHORT-LINE-DENSITY-5\n",
       "4  SHORT-LINE-DENSITY-2"
      ]
     },
     "execution_count": 7,
     "metadata": {},
     "output_type": "execute_result"
    }
   ],
   "source": [
    "names.head()"
   ]
  },
  {
   "cell_type": "code",
   "execution_count": 8,
   "metadata": {},
   "outputs": [
    {
     "data": {
      "text/plain": [
       "array([[0.43083004, 0.74166667, 0.        , ..., 0.12371135, 0.50813884,\n",
       "        0.83184923],\n",
       "       [0.33596838, 0.73333333, 0.        , ..., 0.12739322, 0.46332908,\n",
       "        0.83698646],\n",
       "       [0.88537549, 0.97083333, 0.        , ..., 0.11340205, 0.48014903,\n",
       "        0.84478233],\n",
       "       ...,\n",
       "       [0.50197628, 0.625     , 0.        , ..., 0.07216495, 0.5409177 ,\n",
       "        0.17591546],\n",
       "       [0.58893281, 0.6125    , 0.        , ..., 0.08100147, 0.50308645,\n",
       "        0.18478933],\n",
       "       [0.48616601, 0.62916667, 0.        , ..., 0.09646539, 0.4799313 ,\n",
       "        0.17037463]])"
      ]
     },
     "execution_count": 8,
     "metadata": {},
     "output_type": "execute_result"
    }
   ],
   "source": [
    "min_max_scaler = MinMaxScaler().fit(data)\n",
    "data_norm = min_max_scaler.transform(data)\n",
    "data_norm"
   ]
  },
  {
   "cell_type": "markdown",
   "metadata": {},
   "source": [
    "\n",
    "### 1B"
   ]
  },
  {
   "cell_type": "code",
   "execution_count": 9,
   "metadata": {},
   "outputs": [],
   "source": [
    "from sklearn.cluster import KMeans "
   ]
  },
  {
   "cell_type": "code",
   "execution_count": 10,
   "metadata": {},
   "outputs": [],
   "source": [
    "kMeans = KMeans(n_clusters = 7)"
   ]
  },
  {
   "cell_type": "code",
   "execution_count": 11,
   "metadata": {},
   "outputs": [
    {
     "data": {
      "text/plain": [
       "KMeans(algorithm='auto', copy_x=True, init='k-means++', max_iter=300,\n",
       "       n_clusters=7, n_init=10, n_jobs=None, precompute_distances='auto',\n",
       "       random_state=None, tol=0.0001, verbose=0)"
      ]
     },
     "execution_count": 11,
     "metadata": {},
     "output_type": "execute_result"
    }
   ],
   "source": [
    "kMeans.fit(data_norm)"
   ]
  },
  {
   "cell_type": "code",
   "execution_count": 12,
   "metadata": {},
   "outputs": [
    {
     "data": {
      "text/html": [
       "<div>\n",
       "<style scoped>\n",
       "    .dataframe tbody tr th:only-of-type {\n",
       "        vertical-align: middle;\n",
       "    }\n",
       "\n",
       "    .dataframe tbody tr th {\n",
       "        vertical-align: top;\n",
       "    }\n",
       "\n",
       "    .dataframe thead th {\n",
       "        text-align: right;\n",
       "    }\n",
       "</style>\n",
       "<table border=\"1\" class=\"dataframe\">\n",
       "  <thead>\n",
       "    <tr style=\"text-align: right;\">\n",
       "      <th></th>\n",
       "      <th>Cluster 1</th>\n",
       "      <th>Cluster 2</th>\n",
       "      <th>Cluster 3</th>\n",
       "      <th>Cluster 4</th>\n",
       "      <th>Cluster 5</th>\n",
       "      <th>Cluster 6</th>\n",
       "      <th>Cluster 7</th>\n",
       "    </tr>\n",
       "  </thead>\n",
       "  <tbody>\n",
       "    <tr>\n",
       "      <td>(REGION-CENTROID-COL,)</td>\n",
       "      <td>0.769063</td>\n",
       "      <td>0.535099</td>\n",
       "      <td>0.302506</td>\n",
       "      <td>0.254150</td>\n",
       "      <td>0.748274</td>\n",
       "      <td>0.513994</td>\n",
       "      <td>0.251212</td>\n",
       "    </tr>\n",
       "    <tr>\n",
       "      <td>(REGION-CENTROID-ROW,)</td>\n",
       "      <td>0.425930</td>\n",
       "      <td>0.150167</td>\n",
       "      <td>0.530862</td>\n",
       "      <td>0.459382</td>\n",
       "      <td>0.532041</td>\n",
       "      <td>0.808937</td>\n",
       "      <td>0.393366</td>\n",
       "    </tr>\n",
       "    <tr>\n",
       "      <td>(REGION-PIXEL-COUNT,)</td>\n",
       "      <td>0.000000</td>\n",
       "      <td>0.000000</td>\n",
       "      <td>0.000000</td>\n",
       "      <td>0.000000</td>\n",
       "      <td>0.000000</td>\n",
       "      <td>0.000000</td>\n",
       "      <td>0.000000</td>\n",
       "    </tr>\n",
       "    <tr>\n",
       "      <td>(SHORT-LINE-DENSITY-5,)</td>\n",
       "      <td>0.014024</td>\n",
       "      <td>0.027778</td>\n",
       "      <td>0.052260</td>\n",
       "      <td>0.026437</td>\n",
       "      <td>0.039157</td>\n",
       "      <td>0.077441</td>\n",
       "      <td>0.075397</td>\n",
       "    </tr>\n",
       "    <tr>\n",
       "      <td>(SHORT-LINE-DENSITY-2,)</td>\n",
       "      <td>0.022654</td>\n",
       "      <td>0.001667</td>\n",
       "      <td>0.046610</td>\n",
       "      <td>0.013793</td>\n",
       "      <td>0.037651</td>\n",
       "      <td>0.005051</td>\n",
       "      <td>0.019345</td>\n",
       "    </tr>\n",
       "    <tr>\n",
       "      <td>(VEDGE-MEAN,)</td>\n",
       "      <td>0.039702</td>\n",
       "      <td>0.030228</td>\n",
       "      <td>0.100817</td>\n",
       "      <td>0.036790</td>\n",
       "      <td>0.113530</td>\n",
       "      <td>0.054474</td>\n",
       "      <td>0.078009</td>\n",
       "    </tr>\n",
       "    <tr>\n",
       "      <td>(VEDGE-SD,)</td>\n",
       "      <td>0.002983</td>\n",
       "      <td>0.000543</td>\n",
       "      <td>0.009420</td>\n",
       "      <td>0.002031</td>\n",
       "      <td>0.018922</td>\n",
       "      <td>0.001407</td>\n",
       "      <td>0.004436</td>\n",
       "    </tr>\n",
       "    <tr>\n",
       "      <td>(HEDGE-MEAN,)</td>\n",
       "      <td>0.023116</td>\n",
       "      <td>0.026766</td>\n",
       "      <td>0.083972</td>\n",
       "      <td>0.026610</td>\n",
       "      <td>0.107311</td>\n",
       "      <td>0.046335</td>\n",
       "      <td>0.062256</td>\n",
       "    </tr>\n",
       "    <tr>\n",
       "      <td>(HEDGE-SD,)</td>\n",
       "      <td>0.002094</td>\n",
       "      <td>0.000587</td>\n",
       "      <td>0.011043</td>\n",
       "      <td>0.001651</td>\n",
       "      <td>0.017627</td>\n",
       "      <td>0.001401</td>\n",
       "      <td>0.005348</td>\n",
       "    </tr>\n",
       "    <tr>\n",
       "      <td>(INTENSITY-MEAN,)</td>\n",
       "      <td>0.040385</td>\n",
       "      <td>0.823246</td>\n",
       "      <td>0.400608</td>\n",
       "      <td>0.025687</td>\n",
       "      <td>0.298573</td>\n",
       "      <td>0.108790</td>\n",
       "      <td>0.147286</td>\n",
       "    </tr>\n",
       "    <tr>\n",
       "      <td>(RAWRED-MEAN,)</td>\n",
       "      <td>0.034426</td>\n",
       "      <td>0.779716</td>\n",
       "      <td>0.370347</td>\n",
       "      <td>0.017510</td>\n",
       "      <td>0.277521</td>\n",
       "      <td>0.091403</td>\n",
       "      <td>0.137358</td>\n",
       "    </tr>\n",
       "    <tr>\n",
       "      <td>(RAWBLUE-MEAN,)</td>\n",
       "      <td>0.057385</td>\n",
       "      <td>0.894170</td>\n",
       "      <td>0.472461</td>\n",
       "      <td>0.041999</td>\n",
       "      <td>0.350081</td>\n",
       "      <td>0.092414</td>\n",
       "      <td>0.184210</td>\n",
       "    </tr>\n",
       "    <tr>\n",
       "      <td>(RAWGREEN-MEAN,)</td>\n",
       "      <td>0.028059</td>\n",
       "      <td>0.788761</td>\n",
       "      <td>0.353036</td>\n",
       "      <td>0.016247</td>\n",
       "      <td>0.263837</td>\n",
       "      <td>0.142676</td>\n",
       "      <td>0.117524</td>\n",
       "    </tr>\n",
       "    <tr>\n",
       "      <td>(EXRED-MEAN,)</td>\n",
       "      <td>0.779917</td>\n",
       "      <td>0.270665</td>\n",
       "      <td>0.497146</td>\n",
       "      <td>0.769281</td>\n",
       "      <td>0.593300</td>\n",
       "      <td>0.679161</td>\n",
       "      <td>0.718395</td>\n",
       "    </tr>\n",
       "    <tr>\n",
       "      <td>(EXBLUE-MEAN,)</td>\n",
       "      <td>0.222795</td>\n",
       "      <td>0.666373</td>\n",
       "      <td>0.570882</td>\n",
       "      <td>0.216020</td>\n",
       "      <td>0.449242</td>\n",
       "      <td>0.079002</td>\n",
       "      <td>0.343568</td>\n",
       "    </tr>\n",
       "    <tr>\n",
       "      <td>(EXGREEN-MEAN,)</td>\n",
       "      <td>0.486886</td>\n",
       "      <td>0.289386</td>\n",
       "      <td>0.213054</td>\n",
       "      <td>0.508631</td>\n",
       "      <td>0.311453</td>\n",
       "      <td>0.821287</td>\n",
       "      <td>0.354664</td>\n",
       "    </tr>\n",
       "    <tr>\n",
       "      <td>(VALUE-MEAN,)</td>\n",
       "      <td>0.058362</td>\n",
       "      <td>0.894170</td>\n",
       "      <td>0.472461</td>\n",
       "      <td>0.042910</td>\n",
       "      <td>0.350163</td>\n",
       "      <td>0.134901</td>\n",
       "      <td>0.184522</td>\n",
       "    </tr>\n",
       "    <tr>\n",
       "      <td>(SATURATION-MEAN,)</td>\n",
       "      <td>0.539152</td>\n",
       "      <td>0.211804</td>\n",
       "      <td>0.302263</td>\n",
       "      <td>0.803157</td>\n",
       "      <td>0.303047</td>\n",
       "      <td>0.414491</td>\n",
       "      <td>0.414107</td>\n",
       "    </tr>\n",
       "    <tr>\n",
       "      <td>(HUE-MEAN,)</td>\n",
       "      <td>0.244988</td>\n",
       "      <td>0.125066</td>\n",
       "      <td>0.163879</td>\n",
       "      <td>0.180407</td>\n",
       "      <td>0.164359</td>\n",
       "      <td>0.892333</td>\n",
       "      <td>0.202772</td>\n",
       "    </tr>\n",
       "  </tbody>\n",
       "</table>\n",
       "</div>"
      ],
      "text/plain": [
       "                         Cluster 1  Cluster 2  Cluster 3  Cluster 4  \\\n",
       "(REGION-CENTROID-COL,)    0.769063   0.535099   0.302506   0.254150   \n",
       "(REGION-CENTROID-ROW,)    0.425930   0.150167   0.530862   0.459382   \n",
       "(REGION-PIXEL-COUNT,)     0.000000   0.000000   0.000000   0.000000   \n",
       "(SHORT-LINE-DENSITY-5,)   0.014024   0.027778   0.052260   0.026437   \n",
       "(SHORT-LINE-DENSITY-2,)   0.022654   0.001667   0.046610   0.013793   \n",
       "(VEDGE-MEAN,)             0.039702   0.030228   0.100817   0.036790   \n",
       "(VEDGE-SD,)               0.002983   0.000543   0.009420   0.002031   \n",
       "(HEDGE-MEAN,)             0.023116   0.026766   0.083972   0.026610   \n",
       "(HEDGE-SD,)               0.002094   0.000587   0.011043   0.001651   \n",
       "(INTENSITY-MEAN,)         0.040385   0.823246   0.400608   0.025687   \n",
       "(RAWRED-MEAN,)            0.034426   0.779716   0.370347   0.017510   \n",
       "(RAWBLUE-MEAN,)           0.057385   0.894170   0.472461   0.041999   \n",
       "(RAWGREEN-MEAN,)          0.028059   0.788761   0.353036   0.016247   \n",
       "(EXRED-MEAN,)             0.779917   0.270665   0.497146   0.769281   \n",
       "(EXBLUE-MEAN,)            0.222795   0.666373   0.570882   0.216020   \n",
       "(EXGREEN-MEAN,)           0.486886   0.289386   0.213054   0.508631   \n",
       "(VALUE-MEAN,)             0.058362   0.894170   0.472461   0.042910   \n",
       "(SATURATION-MEAN,)        0.539152   0.211804   0.302263   0.803157   \n",
       "(HUE-MEAN,)               0.244988   0.125066   0.163879   0.180407   \n",
       "\n",
       "                         Cluster 5   Cluster 6  Cluster 7  \n",
       "(REGION-CENTROID-COL,)    0.748274    0.513994   0.251212  \n",
       "(REGION-CENTROID-ROW,)    0.532041    0.808937   0.393366  \n",
       "(REGION-PIXEL-COUNT,)     0.000000    0.000000   0.000000  \n",
       "(SHORT-LINE-DENSITY-5,)   0.039157    0.077441   0.075397  \n",
       "(SHORT-LINE-DENSITY-2,)   0.037651    0.005051   0.019345  \n",
       "(VEDGE-MEAN,)             0.113530    0.054474   0.078009  \n",
       "(VEDGE-SD,)               0.018922    0.001407   0.004436  \n",
       "(HEDGE-MEAN,)             0.107311    0.046335   0.062256  \n",
       "(HEDGE-SD,)               0.017627    0.001401   0.005348  \n",
       "(INTENSITY-MEAN,)         0.298573    0.108790   0.147286  \n",
       "(RAWRED-MEAN,)            0.277521    0.091403   0.137358  \n",
       "(RAWBLUE-MEAN,)           0.350081    0.092414   0.184210  \n",
       "(RAWGREEN-MEAN,)          0.263837    0.142676   0.117524  \n",
       "(EXRED-MEAN,)             0.593300    0.679161   0.718395  \n",
       "(EXBLUE-MEAN,)            0.449242    0.079002   0.343568  \n",
       "(EXGREEN-MEAN,)           0.311453    0.821287   0.354664  \n",
       "(VALUE-MEAN,)             0.350163    0.134901   0.184522  \n",
       "(SATURATION-MEAN,)        0.303047    0.414491   0.414107  \n",
       "(HUE-MEAN,)               0.164359    0.892333   0.202772  "
      ]
     },
     "execution_count": 12,
     "metadata": {},
     "output_type": "execute_result"
    }
   ],
   "source": [
    "pd.DataFrame(kMeans.cluster_centers_.T, index = names, columns = ['Cluster 1', 'Cluster 2','Cluster 3','Cluster 4','Cluster 5',' Cluster 6','Cluster 7'])"
   ]
  },
  {
   "cell_type": "code",
   "execution_count": 13,
   "metadata": {},
   "outputs": [],
   "source": [
    "from sklearn import metrics"
   ]
  },
  {
   "cell_type": "code",
   "execution_count": 14,
   "metadata": {},
   "outputs": [],
   "source": [
    "clusters = kMeans.predict(data)"
   ]
  },
  {
   "cell_type": "code",
   "execution_count": 15,
   "metadata": {},
   "outputs": [
    {
     "name": "stdout",
     "output_type": "stream",
     "text": [
      "[ 0.31132316  0.3421251  -0.09110072  0.21541678  0.35855185  0.12977857\n",
      "  0.26683371  0.1219922   0.19617831  0.06715959  0.15369884  0.2372328\n",
      "  0.19161282  0.35829884 -0.15030625  0.25883668  0.13957507 -0.05522165\n",
      "  0.332067    0.29414435]\n"
     ]
    }
   ],
   "source": [
    "silhouettes = metrics.silhouette_samples(data, clusters)\n",
    "print(silhouettes[:20])"
   ]
  },
  {
   "cell_type": "code",
   "execution_count": 16,
   "metadata": {},
   "outputs": [
    {
     "name": "stdout",
     "output_type": "stream",
     "text": [
      "0.021044621002874433\n"
     ]
    }
   ],
   "source": [
    "print(silhouettes.mean())"
   ]
  },
  {
   "cell_type": "markdown",
   "metadata": {},
   "source": [
    "The silhouette value is a little low."
   ]
  },
  {
   "cell_type": "code",
   "execution_count": 17,
   "metadata": {},
   "outputs": [],
   "source": [
    "from sklearn.metrics import completeness_score, homogeneity_score"
   ]
  },
  {
   "cell_type": "code",
   "execution_count": 18,
   "metadata": {},
   "outputs": [
    {
     "name": "stdout",
     "output_type": "stream",
     "text": [
      "0.6116744999910889\n"
     ]
    }
   ],
   "source": [
    "c_score = completeness_score(Sclass[1], kMeans.labels_)\n",
    "print(c_score)"
   ]
  },
  {
   "cell_type": "code",
   "execution_count": 19,
   "metadata": {},
   "outputs": [
    {
     "name": "stdout",
     "output_type": "stream",
     "text": [
      "0.609965639314724\n"
     ]
    }
   ],
   "source": [
    "h_score = homogeneity_score(Sclass[1], kMeans.labels_)\n",
    "print(h_score)"
   ]
  },
  {
   "cell_type": "markdown",
   "metadata": {},
   "source": [
    "\n",
    "### 1C"
   ]
  },
  {
   "cell_type": "code",
   "execution_count": 20,
   "metadata": {},
   "outputs": [],
   "source": [
    "from sklearn import decomposition"
   ]
  },
  {
   "cell_type": "code",
   "execution_count": 38,
   "metadata": {},
   "outputs": [
    {
     "name": "stdout",
     "output_type": "stream",
     "text": [
      "[[ 0.08  0.    0.   -0.   -0.   -0.    0.   -0.    0.    0.    0.    0.01  0.01 -0.01  0.    0.\n",
      "   0.01 -0.01  0.  ]\n",
      " [ 0.    0.06  0.    0.    0.    0.   -0.    0.   -0.   -0.03 -0.03 -0.03 -0.03  0.02 -0.02  0.02\n",
      "  -0.03  0.    0.04]\n",
      " [ 0.    0.    0.    0.    0.    0.    0.    0.    0.    0.    0.    0.    0.    0.    0.    0.\n",
      "   0.    0.    0.  ]\n",
      " [-0.    0.    0.    0.02 -0.   -0.   -0.   -0.   -0.   -0.   -0.   -0.   -0.    0.   -0.    0.\n",
      "  -0.   -0.    0.  ]\n",
      " [-0.    0.    0.   -0.    0.01  0.    0.    0.    0.   -0.   -0.   -0.   -0.   -0.    0.   -0.\n",
      "  -0.    0.   -0.  ]\n",
      " [-0.    0.    0.   -0.    0.    0.01  0.    0.    0.   -0.   -0.    0.   -0.   -0.    0.   -0.\n",
      "   0.   -0.   -0.  ]\n",
      " [ 0.   -0.    0.   -0.    0.    0.    0.    0.    0.   -0.   -0.    0.    0.   -0.    0.    0.\n",
      "   0.    0.   -0.  ]\n",
      " [-0.    0.    0.   -0.    0.    0.    0.    0.01  0.    0.    0.    0.    0.   -0.    0.   -0.\n",
      "   0.   -0.   -0.  ]\n",
      " [ 0.   -0.    0.   -0.    0.    0.    0.    0.    0.    0.    0.    0.    0.   -0.    0.   -0.\n",
      "   0.   -0.   -0.  ]\n",
      " [ 0.   -0.03  0.   -0.   -0.   -0.   -0.    0.    0.    0.07  0.07  0.08  0.07 -0.04  0.04 -0.03\n",
      "   0.08 -0.04 -0.02]\n",
      " [ 0.   -0.03  0.   -0.   -0.   -0.   -0.    0.    0.    0.07  0.07  0.07  0.06 -0.04  0.04 -0.03\n",
      "   0.07 -0.04 -0.02]\n",
      " [ 0.01 -0.03  0.   -0.   -0.    0.    0.    0.    0.    0.08  0.07  0.08  0.07 -0.05  0.05 -0.03\n",
      "   0.08 -0.04 -0.03]\n",
      " [ 0.01 -0.03  0.   -0.   -0.   -0.    0.    0.    0.    0.07  0.06  0.07  0.06 -0.04  0.04 -0.02\n",
      "   0.07 -0.04 -0.02]\n",
      " [-0.01  0.02  0.    0.   -0.   -0.   -0.   -0.   -0.   -0.04 -0.04 -0.05 -0.04  0.04 -0.03  0.02\n",
      "  -0.05  0.02  0.01]\n",
      " [ 0.   -0.02  0.   -0.    0.    0.    0.    0.    0.    0.04  0.04  0.05  0.04 -0.03  0.04 -0.03\n",
      "   0.05 -0.02 -0.03]\n",
      " [ 0.    0.02  0.    0.   -0.   -0.    0.   -0.   -0.   -0.03 -0.03 -0.03 -0.02  0.02 -0.03  0.04\n",
      "  -0.03  0.01  0.04]\n",
      " [ 0.01 -0.03  0.   -0.   -0.    0.    0.    0.    0.    0.08  0.07  0.08  0.07 -0.05  0.05 -0.03\n",
      "   0.08 -0.04 -0.03]\n",
      " [-0.01  0.    0.   -0.    0.   -0.    0.   -0.   -0.   -0.04 -0.04 -0.04 -0.04  0.02 -0.02  0.01\n",
      "  -0.04  0.05 -0.  ]\n",
      " [ 0.    0.04  0.    0.   -0.   -0.   -0.   -0.   -0.   -0.02 -0.02 -0.03 -0.02  0.01 -0.03  0.04\n",
      "  -0.03 -0.    0.07]]\n"
     ]
    }
   ],
   "source": [
    "meanVals = np.mean(data_norm, axis=0)\n",
    "meanRemoved = data_norm - meanVals #remove mean\n",
    "covMat = np.cov(meanRemoved, rowvar=0)\n",
    "\n",
    "np.set_printoptions(precision=2,suppress=True,linewidth=100)\n",
    "print(covMat)"
   ]
  },
  {
   "cell_type": "code",
   "execution_count": 39,
   "metadata": {},
   "outputs": [],
   "source": [
    "import numpy.linalg as la\n",
    "eigVals,eigVects = la.eig(np.mat(covMat))"
   ]
  },
  {
   "cell_type": "code",
   "execution_count": 40,
   "metadata": {},
   "outputs": [
    {
     "name": "stdout",
     "output_type": "stream",
     "text": [
      "[0.48 0.1  0.08 0.04 0.03 0.02 0.01 0.01 0.01 0.01 0.   0.   0.   0.   0.   0.   0.   0.   0.  ]\n",
      "[60.71 13.2  10.12  4.54  3.55  1.99  1.89  1.62  1.07  0.71  0.39  0.16  0.05  0.    0.    0.\n",
      "  0.    0.    0.  ]\n"
     ]
    }
   ],
   "source": [
    "eigValInd = np.argsort(eigVals)  #sort, sort goes smallest to largest\n",
    "eigValInd = eigValInd[::-1]   #reverse\n",
    "sortedEigVals = eigVals[eigValInd]\n",
    "print (sortedEigVals)\n",
    "total = sum(sortedEigVals)\n",
    "varPercentage = sortedEigVals/total*100\n",
    "print(varPercentage)"
   ]
  },
  {
   "cell_type": "code",
   "execution_count": 41,
   "metadata": {},
   "outputs": [],
   "source": [
    "pca = decomposition.PCA(n_components = 6)\n",
    "DTtrans = pca.fit(data_norm).transform(data_norm)\n",
    "np.set_printoptions(precision = 2, suppress = True)"
   ]
  },
  {
   "cell_type": "code",
   "execution_count": 42,
   "metadata": {},
   "outputs": [
    {
     "data": {
      "image/png": "[encoded data removed]",
      "text/plain": [
       "<Figure size 432x288 with 1 Axes>"
      ]
     },
     "metadata": {
      "needs_background": "light"
     },
     "output_type": "display_data"
    }
   ],
   "source": [
    "import matplotlib.pyplot as plt\n",
    "%matplotlib inline\n",
    "\n",
    "fig = plt.figure()\n",
    "ax = fig.add_subplot(111)\n",
    "ax.plot(range(1, 11), varPercentage[:10], marker='^')\n",
    "plt.xlabel('Principal Component Number')\n",
    "plt.ylabel('Percentage of Variance')\n",
    "plt.show()"
   ]
  },
  {
   "cell_type": "code",
   "execution_count": 43,
   "metadata": {},
   "outputs": [
    {
     "name": "stdout",
     "output_type": "stream",
     "text": [
      "[0.61 0.13 0.1  0.05 0.04 0.02]\n"
     ]
    }
   ],
   "source": [
    "print(pca.explained_variance_ratio_)"
   ]
  },
  {
   "cell_type": "markdown",
   "metadata": {},
   "source": [
    "Explains exactly 95% of the variance."
   ]
  },
  {
   "cell_type": "code",
   "execution_count": 46,
   "metadata": {},
   "outputs": [
    {
     "name": "stdout",
     "output_type": "stream",
     "text": [
      "[[-0.69  0.53  0.25 -0.2  -0.08  0.05]\n",
      " [-0.67  0.51  0.34 -0.17 -0.04  0.06]\n",
      " [-0.71  0.77 -0.16 -0.01 -0.17  0.04]\n",
      " ...\n",
      " [-0.51 -0.13 -0.08  0.1  -0.03 -0.03]\n",
      " [-0.48 -0.09 -0.16  0.11  0.   -0.  ]\n",
      " [-0.44 -0.11 -0.05  0.15  0.02 -0.21]]\n"
     ]
    }
   ],
   "source": [
    "print(DTtrans)"
   ]
  },
  {
   "cell_type": "markdown",
   "metadata": {},
   "source": [
    "\n",
    "### 1D"
   ]
  },
  {
   "cell_type": "code",
   "execution_count": 48,
   "metadata": {},
   "outputs": [
    {
     "data": {
      "text/plain": [
       "KMeans(algorithm='auto', copy_x=True, init='k-means++', max_iter=300,\n",
       "       n_clusters=7, n_init=10, n_jobs=None, precompute_distances='auto',\n",
       "       random_state=None, tol=0.0001, verbose=0)"
      ]
     },
     "execution_count": 48,
     "metadata": {},
     "output_type": "execute_result"
    }
   ],
   "source": [
    "kMeans.fit(DTtrans)"
   ]
  },
  {
   "cell_type": "code",
   "execution_count": 49,
   "metadata": {},
   "outputs": [
    {
     "data": {
      "text/html": [
       "<div>\n",
       "<style scoped>\n",
       "    .dataframe tbody tr th:only-of-type {\n",
       "        vertical-align: middle;\n",
       "    }\n",
       "\n",
       "    .dataframe tbody tr th {\n",
       "        vertical-align: top;\n",
       "    }\n",
       "\n",
       "    .dataframe thead th {\n",
       "        text-align: right;\n",
       "    }\n",
       "</style>\n",
       "<table border=\"1\" class=\"dataframe\">\n",
       "  <thead>\n",
       "    <tr style=\"text-align: right;\">\n",
       "      <th></th>\n",
       "      <th>Cluster 1</th>\n",
       "      <th>Cluster 2</th>\n",
       "      <th>Cluster 3</th>\n",
       "      <th>Cluster 4</th>\n",
       "      <th>Cluster 5</th>\n",
       "      <th>Cluster 6</th>\n",
       "      <th>Cluster 7</th>\n",
       "    </tr>\n",
       "  </thead>\n",
       "  <tbody>\n",
       "    <tr>\n",
       "      <td>PC 1</td>\n",
       "      <td>-0.506688</td>\n",
       "      <td>1.414527</td>\n",
       "      <td>-0.619319</td>\n",
       "      <td>0.183625</td>\n",
       "      <td>-0.600021</td>\n",
       "      <td>0.438137</td>\n",
       "      <td>-0.204103</td>\n",
       "    </tr>\n",
       "    <tr>\n",
       "      <td>PC 2</td>\n",
       "      <td>-0.066909</td>\n",
       "      <td>0.087223</td>\n",
       "      <td>0.637619</td>\n",
       "      <td>0.046328</td>\n",
       "      <td>-0.355050</td>\n",
       "      <td>-0.105548</td>\n",
       "      <td>-0.239871</td>\n",
       "    </tr>\n",
       "    <tr>\n",
       "      <td>PC 3</td>\n",
       "      <td>-0.343612</td>\n",
       "      <td>0.036765</td>\n",
       "      <td>0.195135</td>\n",
       "      <td>-0.266256</td>\n",
       "      <td>0.109851</td>\n",
       "      <td>0.165439</td>\n",
       "      <td>0.147865</td>\n",
       "    </tr>\n",
       "    <tr>\n",
       "      <td>PC 4</td>\n",
       "      <td>-0.067623</td>\n",
       "      <td>-0.173195</td>\n",
       "      <td>-0.085205</td>\n",
       "      <td>0.186787</td>\n",
       "      <td>-0.127685</td>\n",
       "      <td>0.234038</td>\n",
       "      <td>0.059405</td>\n",
       "    </tr>\n",
       "    <tr>\n",
       "      <td>PC 5</td>\n",
       "      <td>0.074158</td>\n",
       "      <td>-0.029922</td>\n",
       "      <td>-0.064244</td>\n",
       "      <td>0.025414</td>\n",
       "      <td>-0.129916</td>\n",
       "      <td>-0.046427</td>\n",
       "      <td>0.134336</td>\n",
       "    </tr>\n",
       "    <tr>\n",
       "      <td>PC 6</td>\n",
       "      <td>0.009007</td>\n",
       "      <td>-0.008973</td>\n",
       "      <td>0.009114</td>\n",
       "      <td>0.020273</td>\n",
       "      <td>-0.016850</td>\n",
       "      <td>-0.006503</td>\n",
       "      <td>-0.008288</td>\n",
       "    </tr>\n",
       "  </tbody>\n",
       "</table>\n",
       "</div>"
      ],
      "text/plain": [
       "      Cluster 1  Cluster 2  Cluster 3  Cluster 4  Cluster 5   Cluster 6  \\\n",
       "PC 1  -0.506688   1.414527  -0.619319   0.183625  -0.600021    0.438137   \n",
       "PC 2  -0.066909   0.087223   0.637619   0.046328  -0.355050   -0.105548   \n",
       "PC 3  -0.343612   0.036765   0.195135  -0.266256   0.109851    0.165439   \n",
       "PC 4  -0.067623  -0.173195  -0.085205   0.186787  -0.127685    0.234038   \n",
       "PC 5   0.074158  -0.029922  -0.064244   0.025414  -0.129916   -0.046427   \n",
       "PC 6   0.009007  -0.008973   0.009114   0.020273  -0.016850   -0.006503   \n",
       "\n",
       "      Cluster 7  \n",
       "PC 1  -0.204103  \n",
       "PC 2  -0.239871  \n",
       "PC 3   0.147865  \n",
       "PC 4   0.059405  \n",
       "PC 5   0.134336  \n",
       "PC 6  -0.008288  "
      ]
     },
     "execution_count": 49,
     "metadata": {},
     "output_type": "execute_result"
    }
   ],
   "source": [
    "pd.DataFrame(kMeans.cluster_centers_.T, index = ['PC 1', 'PC 2', 'PC 3', 'PC 4', 'PC 5', 'PC 6'], columns = ['Cluster 1', 'Cluster 2','Cluster 3','Cluster 4','Cluster 5',' Cluster 6','Cluster 7'])"
   ]
  },
  {
   "cell_type": "code",
   "execution_count": 51,
   "metadata": {},
   "outputs": [
    {
     "name": "stdout",
     "output_type": "stream",
     "text": [
      "[0.61 0.59 0.5  0.54 0.61 0.61 0.59 0.44 0.56 0.49 0.52 0.54 0.61 0.59 0.41 0.56 0.58 0.45 0.43\n",
      " 0.46]\n"
     ]
    }
   ],
   "source": [
    "clusters = kMeans.predict(DTtrans)\n",
    "silhouettes = metrics.silhouette_samples(DTtrans, clusters)\n",
    "print(silhouettes[:20])"
   ]
  },
  {
   "cell_type": "code",
   "execution_count": 52,
   "metadata": {},
   "outputs": [
    {
     "name": "stdout",
     "output_type": "stream",
     "text": [
      "0.3762543206963316\n"
     ]
    }
   ],
   "source": [
    "print(silhouettes.mean())"
   ]
  },
  {
   "cell_type": "code",
   "execution_count": 53,
   "metadata": {},
   "outputs": [
    {
     "name": "stdout",
     "output_type": "stream",
     "text": [
      "0.6099679061860668\n"
     ]
    }
   ],
   "source": [
    "c_score = completeness_score(Sclass[1], kMeans.labels_)\n",
    "print(c_score)"
   ]
  },
  {
   "cell_type": "code",
   "execution_count": 54,
   "metadata": {},
   "outputs": [
    {
     "name": "stdout",
     "output_type": "stream",
     "text": [
      "0.6083299572676167\n"
     ]
    }
   ],
   "source": [
    "h_score = homogeneity_score(Sclass[1], kMeans.labels_)\n",
    "print(h_score)"
   ]
  },
  {
   "cell_type": "markdown",
   "metadata": {},
   "source": [
    "With the silhouette value being significantly higher and the completness and homogenity scores being just slightly lower but alomost the same, we can conclude that transforming the data will improve our model."
   ]
  },
  {
   "cell_type": "markdown",
   "metadata": {},
   "source": [
    "\n",
    "# Problem 2"
   ]
  },
  {
   "cell_type": "markdown",
   "metadata": {},
   "source": [
    "\n",
    "### 2A"
   ]
  },
  {
   "cell_type": "code",
   "execution_count": 140,
   "metadata": {},
   "outputs": [
    {
     "ename": "IndentationError",
     "evalue": "expected an indented block (<ipython-input-140-0467a0fe3012>, line 123)",
     "output_type": "error",
     "traceback": [
      "\u001b[1;36m  File \u001b[1;32m\"<ipython-input-140-0467a0fe3012>\"\u001b[1;36m, line \u001b[1;32m123\u001b[0m\n\u001b[1;33m    def load_jokes(file):\u001b[0m\n\u001b[1;37m      ^\u001b[0m\n\u001b[1;31mIndentationError\u001b[0m\u001b[1;31m:\u001b[0m expected an indented block\n"
     ]
    }
   ],
   "source": [
    "from numpy import *\n",
    "from numpy import linalg as la\n",
    "import numpy as np\n",
    "\n",
    "\n",
    "def euclidSim(inA,inB):\n",
    "    return 1.0 / (1.0 + la.norm(inA - inB))\n",
    "\n",
    "def pearsonSim(inA,inB):\n",
    "    if len(inA) < 3 : return 1.0\n",
    "    return 0.5 + 0.5 * corrcoef(inA, inB, rowvar = 0)[0][1]\n",
    "\n",
    "def cosineSim(inA,inB):\n",
    "    num = float(inA.T * inB)\n",
    "    denom = la.norm(inA)*la.norm(inB)\n",
    "    return 0.5 + 0.5 * (num / denom)\n",
    "\n",
    "\n",
    "def standEst(dataMat, user, simMeas, item):\n",
    "    n = shape(dataMat)[1]\n",
    "    simTotal = 0.0; ratSimTotal = 0.0\n",
    "    data=mat(dataMat)\n",
    "    for j in range(n):\n",
    "        userRating = data[user,j]\n",
    "        if userRating == 0: continue\n",
    "        overLap = nonzero(logical_and(data[:,item]>0, data[:,j]>0))[0]\n",
    "        if len(overLap) == 0:\n",
    "            similarity = 0\n",
    "        else:\n",
    "            similarity = simMeas(data[overLap,item], data[overLap,j])\n",
    "        #print('the %d and %d similarity is: %f' % (item, j, similarity))\n",
    "        simTotal += similarity\n",
    "        ratSimTotal += similarity * userRating\n",
    "    if simTotal == 0: return 0\n",
    "    else: return ratSimTotal/simTotal\n",
    "    \n",
    "def svdEst(dataMat, user, simMeas, item):\n",
    "    n = shape(dataMat)[1]\n",
    "    k = 4 #number of dimension for SVD\n",
    "    simTotal = 0.0; ratSimTotal = 0.0\n",
    "    data=mat(dataMat)\n",
    "    U,Sigma,VT = la.svd(data)\n",
    "    Sig_k = mat(eye(k)*Sigma[:k]) #arrange Sig_k into a diagonal matrix\n",
    "    xformedItems = data.T * U[:,:k] * Sig_k.I  #create transformed items\n",
    "    for j in range(n):\n",
    "        userRating = data[user,j]\n",
    "        if userRating == 0 or j==item: continue\n",
    "        similarity = simMeas(xformedItems[item,:].T, xformedItems[j,:].T)\n",
    "        #print('the %d and %d similarity is: %f' % (item, j, similarity))\n",
    "        simTotal += similarity\n",
    "        ratSimTotal += similarity * userRating\n",
    "    if simTotal == 0: return 0\n",
    "    else: return ratSimTotal/simTotal\n",
    "\n",
    "def recommend(dataMat, user, N=3, simMeas=pearsonSim, estMethod=standEst):\n",
    "    unratedItems = nonzero(dataMat[user,:].A==0)[1] #find unrated items \n",
    "    if len(unratedItems) == 0: return 'you rated everything'\n",
    "    itemScores = []\n",
    "    for item in unratedItems:\n",
    "        estimatedScore = estMethod(dataMat, user, simMeas, item)\n",
    "        itemScores.append((item, estimatedScore))\n",
    "    return sorted(itemScores, key=lambda jj: jj[1], reverse=True)[:N]\n",
    "\n",
    "# This function performs evaluation on a single user based on the test_ratio\n",
    "# For example, with test_ratio = 0.2, a randomly selected 20 percent of rated \n",
    "# items by the user are withheld as test data. The remaining part of the user\n",
    "# profile is used as input for the estimation functions to predict the \n",
    "# withheld ratings and compute the error for this user\n",
    "\n",
    "def cross_validate_user(dataMat, user, test_ratio, estMethod=standEst, simMeas=pearsonSim):\n",
    "\tdataMat = np.array(dataMat)\n",
    "\tnumber_of_items = np.shape(dataMat)[1]\n",
    "\trated_items_by_user = np.array([i for i in range(number_of_items) if dataMat[user,i]>0])\n",
    "\ttest_size = int(test_ratio * len(rated_items_by_user))\n",
    "\ttest_indices = np.random.randint(0, len(rated_items_by_user), test_size)\n",
    "\twithheld_items = rated_items_by_user[test_indices]\n",
    "\toriginal_user_profile = np.copy(dataMat[user])\n",
    "\tdataMat[user, withheld_items] = 0 # So that the withheld test items is not used in the rating estimation below\n",
    "\terror_u = 0.0\n",
    "\tcount_u = len(withheld_items)\n",
    "\n",
    "\t# Compute absolute error for user u over all test items\n",
    "\tfor item in withheld_items:\n",
    "\t\t# Estimate rating on the withheld item\n",
    "\t\testimatedScore = estMethod(dataMat, user, simMeas, item)\n",
    "\t\terror_u = error_u + abs(estimatedScore - original_user_profile[item])\t\n",
    "\t\n",
    "\t# Now restore ratings of the withheld items to the user profile\n",
    "\tfor item in withheld_items:\n",
    "\t\tdataMat[user, item] = original_user_profile[item]\n",
    "\t\t\n",
    "\t# Return sum of absolute errors and the count of test cases for this user\n",
    "\t# Note that these will have to be accumulated for each user to compute MAE\n",
    "\treturn error_u, count_u\n",
    "\t\n",
    "def test(dataMat, test_ratio, estMethod, simMeas=pearsonSim):\n",
    "    # Write this function to iterate over all users and for each perform evaluation by calling\n",
    "\t# the above cross_validate_user function on each user. MAE will be the ratio of total error \n",
    "\t# across all test cases to the total number of test cases, across all users\n",
    "    MAE=0\n",
    "    totCount = 0\n",
    "    totError = 0\n",
    "    length=len(dataMat)\n",
    "    \n",
    "    for user in range(length):\n",
    "        err_u , rateCount_u = cross_validate_user(dataMat, user, test_ratio, estMethod, simMeas)\n",
    "        totCount += rateCount_u    \n",
    "        totError += err_u\n",
    "        MAE = totError/totCount\n",
    "\n",
    "    return MAE\n",
    "\n",
    "def print_most_similar_jokes(dataMat, jokes, queryJoke, k, metric=pearsonSim):\n",
    "    # Write this function to find the k most similar jokes (based on user ratings) to a queryJoke\n",
    "    # The queryJoke is a joke id as given in the 'jokes.csv' file (an corresponding to the a column in dataMat)\n",
    "    # You must compare ratings for the queryJoke (the column in dataMat corresponding to the joke), to all\n",
    "    # other joke rating vectors and return the top k. Note that this is the same as performing KNN on the \n",
    "    # columns of dataMat. The function must retrieve the text of the joke from 'jokes.csv' file and print both\n",
    "    # the queryJoke text as well as the text of the returned top-k jokes.\n",
    "    \n",
    "\n",
    "\n",
    "def load_jokes(file):\n",
    "    jokes = np.genfromtxt(file, delimiter=',', dtype=str)\n",
    "    jokes = np.array(jokes[:,1])\n",
    "    return jokes\n",
    "\n",
    "def get_joke_text(jokes, id):\n",
    "    return jokes[id]\n"
   ]
  },
  {
   "cell_type": "code",
   "execution_count": 77,
   "metadata": {},
   "outputs": [],
   "source": [
    "joke = load_jokes(\"jokes.csv\")"
   ]
  },
  {
   "cell_type": "code",
   "execution_count": 81,
   "metadata": {},
   "outputs": [],
   "source": [
    "modified_jester = np.genfromtxt('modified_jester_data.csv', delimiter = ',')"
   ]
  },
  {
   "cell_type": "code",
   "execution_count": 82,
   "metadata": {},
   "outputs": [
    {
     "name": "stdout",
     "output_type": "stream",
     "text": [
      "[[ 3.18 19.79  1.34 ...  0.    0.    0.  ]\n",
      " [15.08 10.71 17.36 ... 11.34  6.68 12.07]\n",
      " [ 0.    0.    0.   ...  0.    0.    0.  ]\n",
      " ...\n",
      " [16.58 16.63 15.85 ...  0.    0.    0.  ]\n",
      " [ 3.67  4.45  3.67 ...  3.77  3.77  3.28]\n",
      " [ 9.88 11.73  9.16 ...  0.    0.    0.  ]]\n"
     ]
    }
   ],
   "source": [
    "print(modified_jester)"
   ]
  },
  {
   "cell_type": "code",
   "execution_count": 94,
   "metadata": {},
   "outputs": [],
   "source": [
    "modified_jester=np.asmatrix(modified_jester)\n",
    "standRec = recommend(modified_jester, user=4, N=5)"
   ]
  },
  {
   "cell_type": "code",
   "execution_count": 95,
   "metadata": {},
   "outputs": [
    {
     "name": "stdout",
     "output_type": "stream",
     "text": [
      "[(71, 14.413443009309447), (75, 14.397311198445264), (79, 14.382511887413443), (78, 14.356160763938075), (72, 14.334361485417928)]\n"
     ]
    }
   ],
   "source": [
    "print(standRec)"
   ]
  },
  {
   "cell_type": "code",
   "execution_count": 96,
   "metadata": {},
   "outputs": [
    {
     "name": "stdout",
     "output_type": "stream",
     "text": [
      "Recommended Items for User 4 :\n",
      "\n",
      "On the first day of college the Dean addressed the students pointing out some of the rules:\"The female dormitory will be out-of-bounds for all male students and the male dormitory to the female students. Anybody caught breaking this rule will be fined $20 the first time.\" He continued \"Anybody caught breaking this rule the second time will be fined $60. Being caught a third time will cost you a fine of $180. Are there any questions ?\"At this point a male student in the crowd inquired:\"How much for a season pass ?\" with predicted rating:  14.413443009309447 \n",
      "\n",
      "There once was a man and a woman that both  got in  a terrible car wreck. Both of their vehicles  were completely destroyed buy fortunately no one  was   hurt.  In thankfulness the woman said to the man 'We are both okay so we should celebrate. I have   a  bottle of wine in my car let's open it.' So the woman got the bottle out of the car and  handed it to the man. The man took a really big drink and handed the woman the bottle. The  woman  closed the bottle and put it down. The man  asked  'Aren't you going to take a drink?' The woman cleverly replied 'No I think I'll  just  wait for the cops to get here.' with predicted rating:  14.397311198445264 \n",
      "\n",
      "Hillary Bill Clinton and the Pope are sitting together on an airplane. Bill says \"I could throw one thousand dollar bill out of this plane and make one person very happy.\"Hillary says \"I could throw 10 hundred dollar bills out of the plane and make 10 people very happy.\"The Pope chips in and says \"I could throw Bill out of the airplane and make the whole country happy.\" with predicted rating:  14.382511887413443 \n",
      "\n",
      "Q: Ever wonder why the IRS calls it Form 1040?A: Because for every $50 that you earn you get 10 and they get 40. with predicted rating:  14.356160763938075 \n",
      "\n",
      "Q: What is the difference between George  Washington Richard Nixon and Bill Clinton? A: Washington couldn't tell a lie Nixon couldn't   tell the truth andClinton doesn't know the difference. with predicted rating:  14.334361485417928 \n",
      "\n"
     ]
    }
   ],
   "source": [
    "print(\"Recommended Items for User\", 4, \":\\n\")\n",
    "for i, p in standRec:\n",
    "    print(joke[i], \"with predicted rating: \", p, \"\\n\")"
   ]
  },
  {
   "cell_type": "code",
   "execution_count": 97,
   "metadata": {},
   "outputs": [],
   "source": [
    "svdRec = recommend(modified_jester, user=4, N=5, estMethod=svdEst)"
   ]
  },
  {
   "cell_type": "code",
   "execution_count": 98,
   "metadata": {},
   "outputs": [
    {
     "name": "stdout",
     "output_type": "stream",
     "text": [
      "[(79, 14.317465524765913), (78, 14.31483261871697), (72, 14.272992325354503), (71, 14.26813168558082), (74, 14.222727607159861)]\n"
     ]
    }
   ],
   "source": [
    "print(svdRec)"
   ]
  },
  {
   "cell_type": "code",
   "execution_count": 99,
   "metadata": {},
   "outputs": [
    {
     "name": "stdout",
     "output_type": "stream",
     "text": [
      "Recommended Items for User 4 :\n",
      "\n",
      "Hillary Bill Clinton and the Pope are sitting together on an airplane. Bill says \"I could throw one thousand dollar bill out of this plane and make one person very happy.\"Hillary says \"I could throw 10 hundred dollar bills out of the plane and make 10 people very happy.\"The Pope chips in and says \"I could throw Bill out of the airplane and make the whole country happy.\" with predicted rating:  14.317465524765913 \n",
      "\n",
      "Q: Ever wonder why the IRS calls it Form 1040?A: Because for every $50 that you earn you get 10 and they get 40. with predicted rating:  14.31483261871697 \n",
      "\n",
      "Q: What is the difference between George  Washington Richard Nixon and Bill Clinton? A: Washington couldn't tell a lie Nixon couldn't   tell the truth andClinton doesn't know the difference. with predicted rating:  14.272992325354503 \n",
      "\n",
      "On the first day of college the Dean addressed the students pointing out some of the rules:\"The female dormitory will be out-of-bounds for all male students and the male dormitory to the female students. Anybody caught breaking this rule will be fined $20 the first time.\" He continued \"Anybody caught breaking this rule the second time will be fined $60. Being caught a third time will cost you a fine of $180. Are there any questions ?\"At this point a male student in the crowd inquired:\"How much for a season pass ?\" with predicted rating:  14.26813168558082 \n",
      "\n",
      "Q: Do you know the difference between an intelligent male and theSasquatch? A: There have been actual reported sightings of the Sasquatch. with predicted rating:  14.222727607159861 \n",
      "\n"
     ]
    }
   ],
   "source": [
    "print(\"Recommended Items for User\", 4, \":\\n\")\n",
    "for i, p in svdRec:\n",
    "    print(joke[i], \"with predicted rating: \", p, \"\\n\")"
   ]
  },
  {
   "cell_type": "code",
   "execution_count": 100,
   "metadata": {},
   "outputs": [],
   "source": [
    "standRec = recommend(modified_jester, user=10, N=5)"
   ]
  },
  {
   "cell_type": "code",
   "execution_count": 101,
   "metadata": {},
   "outputs": [
    {
     "name": "stdout",
     "output_type": "stream",
     "text": [
      "[(71, 15.001861407344624), (25, 15.00122961286275), (53, 14.996450045612534), (41, 14.991542059358627), (64, 14.98131102986461)]\n"
     ]
    }
   ],
   "source": [
    "print(standRec)"
   ]
  },
  {
   "cell_type": "code",
   "execution_count": 102,
   "metadata": {},
   "outputs": [
    {
     "name": "stdout",
     "output_type": "stream",
     "text": [
      "Recommended Items for User 10 :\n",
      "\n",
      "On the first day of college the Dean addressed the students pointing out some of the rules:\"The female dormitory will be out-of-bounds for all male students and the male dormitory to the female students. Anybody caught breaking this rule will be fined $20 the first time.\" He continued \"Anybody caught breaking this rule the second time will be fined $60. Being caught a third time will cost you a fine of $180. Are there any questions ?\"At this point a male student in the crowd inquired:\"How much for a season pass ?\" with predicted rating:  15.001861407344624 \n",
      "\n",
      "A guy walks into a bar and sits down next to an extremely gorgeous woman.  The first thing he notices about her though are her pants.  They were skin-tight high-waisted and had no obvious mechanism (zipper buttons or velcro) for opening them.After several minutes of puzzling over how she got the pants up over her hips he finally worked up the nerve to ask her.  \"Excuse me miss but how do you get into your pants?\"\"Well\" she replied \"you can start by buying me a drink.\" with predicted rating:  15.00122961286275 \n",
      "\n",
      "The Pope dies and naturally goes to heaven. He's met by the reception committee and after a whirlwind tour he is told that he can enjoy any of the myriad of recreations available.He decides that he wants to read all of the ancient original text of theHoly Scriptures so he spends the next eon or so learning languages.After becoming a linguistic master he sits down in the library and begins to pour over every version of the Bible working back from most recent \"Easy Reading\" to the original script.All of a sudden there is a scream in the library. The Angels come running in only to find the Pope huddled in his chair crying to himself and muttering \"An 'R'! The scribes left out the 'R'.\" A particularly concerned Angel takes him aside offering comfort asks him what the problem is and what does he mean. After collecting his wits the Pope sobs again \"It's the letter 'R'. They left out the 'R'.The word was supposed to be CELEBRATE!\" with predicted rating:  14.996450045612534 \n",
      "\n",
      "Two men are discussing the age old question: who enjoys sex more the man or the woman?  A woman walks by and listens in for awhile and then interrupts: \"Listen you guys. You know when your ear itches and you put in your little finger and wiggle it around for awhile?  Afterward which feels better your finger or your ear?\" with predicted rating:  14.991542059358627 \n",
      "\n",
      "Two Rednecks were seated at the end of a bar when a young lady seated a few stools up began to choke on a piece of hamburger.  She was turning blue and obviously in serious respiratory distress.One said to the other \"That gal there is having a bad time!\" The other agreed and said \"Think we should go help?\"  \"You bet\" said the first and with that he ran over and said \"Can you breathe??\"  She shook her head no.  He said \"Can you speak??\"  She again shook her head no.With that he pulled up her skirt and licked her on the butt.She was so shocked she coughed up the obstruction and began to breathe-with great relief.The redneck walked back to his friend and said \"Funny how that hind lick maneuver always works.\" with predicted rating:  14.98131102986461 \n",
      "\n"
     ]
    }
   ],
   "source": [
    "print(\"Recommended Items for User\", 10, \":\\n\")\n",
    "for i, p in standRec:\n",
    "    print(joke[i], \"with predicted rating: \", p, \"\\n\")"
   ]
  },
  {
   "cell_type": "code",
   "execution_count": 103,
   "metadata": {},
   "outputs": [],
   "source": [
    "svdRec = recommend(modified_jester, user=10, N=5, estMethod=svdEst)"
   ]
  },
  {
   "cell_type": "code",
   "execution_count": 104,
   "metadata": {},
   "outputs": [
    {
     "name": "stdout",
     "output_type": "stream",
     "text": [
      "[(51, 15.407899982647054), (13, 15.394990742479857), (11, 15.39274432639305), (38, 15.388365440049217), (5, 15.382141649699708)]\n"
     ]
    }
   ],
   "source": [
    "print(svdRec)"
   ]
  },
  {
   "cell_type": "code",
   "execution_count": 105,
   "metadata": {},
   "outputs": [
    {
     "name": "stdout",
     "output_type": "stream",
     "text": [
      "Recommended Items for User 10 :\n",
      "\n",
      "On the first day of college the Dean addressed the students pointing out some of the rules:\"The female dormitory will be out-of-bounds for all male students and the male dormitory to the female students. Anybody caught breaking this rule will be fined $20 the first time.\" He continued \"Anybody caught breaking this rule the second time will be fined $60. Being caught a third time will cost you a fine of $180. Are there any questions ?\"At this point a male student in the crowd inquired:\"How much for a season pass ?\" with predicted rating:  15.001861407344624 \n",
      "\n",
      "A guy walks into a bar and sits down next to an extremely gorgeous woman.  The first thing he notices about her though are her pants.  They were skin-tight high-waisted and had no obvious mechanism (zipper buttons or velcro) for opening them.After several minutes of puzzling over how she got the pants up over her hips he finally worked up the nerve to ask her.  \"Excuse me miss but how do you get into your pants?\"\"Well\" she replied \"you can start by buying me a drink.\" with predicted rating:  15.00122961286275 \n",
      "\n",
      "The Pope dies and naturally goes to heaven. He's met by the reception committee and after a whirlwind tour he is told that he can enjoy any of the myriad of recreations available.He decides that he wants to read all of the ancient original text of theHoly Scriptures so he spends the next eon or so learning languages.After becoming a linguistic master he sits down in the library and begins to pour over every version of the Bible working back from most recent \"Easy Reading\" to the original script.All of a sudden there is a scream in the library. The Angels come running in only to find the Pope huddled in his chair crying to himself and muttering \"An 'R'! The scribes left out the 'R'.\" A particularly concerned Angel takes him aside offering comfort asks him what the problem is and what does he mean. After collecting his wits the Pope sobs again \"It's the letter 'R'. They left out the 'R'.The word was supposed to be CELEBRATE!\" with predicted rating:  14.996450045612534 \n",
      "\n",
      "Two men are discussing the age old question: who enjoys sex more the man or the woman?  A woman walks by and listens in for awhile and then interrupts: \"Listen you guys. You know when your ear itches and you put in your little finger and wiggle it around for awhile?  Afterward which feels better your finger or your ear?\" with predicted rating:  14.991542059358627 \n",
      "\n",
      "Two Rednecks were seated at the end of a bar when a young lady seated a few stools up began to choke on a piece of hamburger.  She was turning blue and obviously in serious respiratory distress.One said to the other \"That gal there is having a bad time!\" The other agreed and said \"Think we should go help?\"  \"You bet\" said the first and with that he ran over and said \"Can you breathe??\"  She shook her head no.  He said \"Can you speak??\"  She again shook her head no.With that he pulled up her skirt and licked her on the butt.She was so shocked she coughed up the obstruction and began to breathe-with great relief.The redneck walked back to his friend and said \"Funny how that hind lick maneuver always works.\" with predicted rating:  14.98131102986461 \n",
      "\n"
     ]
    }
   ],
   "source": [
    "print(\"Recommended Items for User\", 10, \":\\n\")\n",
    "for i, p in standRec:\n",
    "    print(joke[i], \"with predicted rating: \", p, \"\\n\")"
   ]
  },
  {
   "cell_type": "markdown",
   "metadata": {},
   "source": [
    "\n",
    "### 2B"
   ]
  },
  {
   "cell_type": "code",
   "execution_count": 130,
   "metadata": {},
   "outputs": [],
   "source": [
    "mae=test(modified_jester, 0.2, standEst)"
   ]
  },
  {
   "cell_type": "code",
   "execution_count": 131,
   "metadata": {},
   "outputs": [
    {
     "name": "stdout",
     "output_type": "stream",
     "text": [
      "3.715989602469961\n"
     ]
    }
   ],
   "source": [
    "print(mae)"
   ]
  },
  {
   "cell_type": "code",
   "execution_count": 132,
   "metadata": {},
   "outputs": [],
   "source": [
    "mae2=test(modified_jester, 0.2, svdEst)"
   ]
  },
  {
   "cell_type": "code",
   "execution_count": 133,
   "metadata": {},
   "outputs": [
    {
     "name": "stdout",
     "output_type": "stream",
     "text": [
      "3.6284149624318607\n"
     ]
    }
   ],
   "source": [
    "print(mae2)"
   ]
  },
  {
   "cell_type": "markdown",
   "metadata": {},
   "source": [
    "\n",
    "### 2C"
   ]
  },
  {
   "cell_type": "code",
   "execution_count": null,
   "metadata": {},
   "outputs": [],
   "source": []
  }
 ],
 "metadata": {
  "kernelspec": {
   "display_name": "Python 3",
   "language": "python",
   "name": "python3"
  },
  "language_info": {
   "codemirror_mode": {
    "name": "ipython",
    "version": 3
   },
   "file_extension": ".py",
   "mimetype": "text/x-python",
   "name": "python",
   "nbconvert_exporter": "python",
   "pygments_lexer": "ipython3",
   "version": "3.7.4"
  }
 },
 "nbformat": 4,
 "nbformat_minor": 2
}
